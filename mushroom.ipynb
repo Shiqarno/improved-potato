{
 "cells": [
  {
   "cell_type": "markdown",
   "id": "b297fdd0",
   "metadata": {},
   "source": [
    "# MUSHROOM\n",
    "\n",
    "model for position classification"
   ]
  },
  {
   "cell_type": "code",
   "execution_count": 1,
   "id": "40e4d0b1",
   "metadata": {},
   "outputs": [],
   "source": [
    "### general\n",
    "import pandas as pd"
   ]
  },
  {
   "cell_type": "code",
   "execution_count": 2,
   "id": "8ea53086",
   "metadata": {},
   "outputs": [],
   "source": [
    "df = pd.read_csv('data/dataset.csv')"
   ]
  },
  {
   "cell_type": "code",
   "execution_count": 3,
   "id": "ed6565a6",
   "metadata": {},
   "outputs": [
    {
     "name": "stdout",
     "output_type": "stream",
     "text": [
      "<class 'pandas.core.frame.DataFrame'>\n",
      "RangeIndex: 723 entries, 0 to 722\n",
      "Data columns (total 7 columns):\n",
      " #   Column   Non-Null Count  Dtype \n",
      "---  ------   --------------  ----- \n",
      " 0   index    723 non-null    int64 \n",
      " 1   name     723 non-null    object\n",
      " 2   date     723 non-null    object\n",
      " 3   cat      723 non-null    object\n",
      " 4   sl       723 non-null    int64 \n",
      " 5   tp       723 non-null    int64 \n",
      " 6   comment  723 non-null    object\n",
      "dtypes: int64(3), object(4)\n",
      "memory usage: 39.7+ KB\n"
     ]
    }
   ],
   "source": [
    "df.info()"
   ]
  },
  {
   "cell_type": "code",
   "execution_count": null,
   "id": "1973c236",
   "metadata": {},
   "outputs": [],
   "source": []
  }
 ],
 "metadata": {
  "kernelspec": {
   "display_name": "Python 3 (ipykernel)",
   "language": "python",
   "name": "python3"
  },
  "language_info": {
   "codemirror_mode": {
    "name": "ipython",
    "version": 3
   },
   "file_extension": ".py",
   "mimetype": "text/x-python",
   "name": "python",
   "nbconvert_exporter": "python",
   "pygments_lexer": "ipython3",
   "version": "3.11.3"
  }
 },
 "nbformat": 4,
 "nbformat_minor": 5
}

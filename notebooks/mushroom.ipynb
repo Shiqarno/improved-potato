{
 "cells": [
  {
   "cell_type": "markdown",
   "id": "b297fdd0",
   "metadata": {},
   "source": [
    "# MUSHROOM\n",
    "\n",
    "model for position classification"
   ]
  },
  {
   "cell_type": "code",
   "execution_count": null,
   "id": "40e4d0b1",
   "metadata": {},
   "outputs": [],
   "source": [
    "### general\n",
    "import pandas as pd"
   ]
  },
  {
   "cell_type": "code",
   "execution_count": null,
   "id": "8ea53086",
   "metadata": {},
   "outputs": [],
   "source": [
    "df = pd.read_csv('data/to_predict.csv')"
   ]
  },
  {
   "cell_type": "code",
   "execution_count": null,
   "id": "ed6565a6",
   "metadata": {},
   "outputs": [],
   "source": [
    "df.info()"
   ]
  },
  {
   "cell_type": "code",
   "execution_count": null,
   "id": "1973c236",
   "metadata": {},
   "outputs": [],
   "source": [
    "df"
   ]
  },
  {
   "cell_type": "code",
   "execution_count": null,
   "id": "a46f6dbb",
   "metadata": {},
   "outputs": [],
   "source": []
  }
 ],
 "metadata": {
  "kernelspec": {
   "display_name": "Python 3 (ipykernel)",
   "language": "python",
   "name": "python3"
  },
  "language_info": {
   "codemirror_mode": {
    "name": "ipython",
    "version": 3
   },
   "file_extension": ".py",
   "mimetype": "text/x-python",
   "name": "python",
   "nbconvert_exporter": "python",
   "pygments_lexer": "ipython3",
   "version": "3.11.3"
  }
 },
 "nbformat": 4,
 "nbformat_minor": 5
}
